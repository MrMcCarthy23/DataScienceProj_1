{
 "cells": [
  {
   "cell_type": "code",
   "execution_count": 19,
   "metadata": {},
   "outputs": [],
   "source": [
    "from bs4 import BeautifulSoup as bs\n",
    "import requests\n",
    "import pandas as pd\n",
    "import numpy as np\n",
    "import sklearn as sk\n",
    "import csv\n",
    "import matplotlib.pyplot as plt"
   ]
  },
  {
   "cell_type": "code",
   "execution_count": 3,
   "metadata": {},
   "outputs": [],
   "source": [
    "#scrape the url for the data with BeautifulSoup package\n",
    "result = requests.get('https://www.mondovo.com/keywords/most-asked-questions-on-google/')\n",
    "webSource = result.content\n",
    "soup = bs(webSource,'lxml')\n",
    "entries = soup.find_all('td')\n",
    "#store all of the relevent data into an array\n",
    "#there are 1000 relevent data points however \n",
    "#there are some gaps in the data. the 5008 \n",
    "#is from counting the relevent rows of data \n",
    "#in the entries array.\n",
    "data = []\n",
    "for elt in range(5008):\n",
    "    data.append(entries[elt].text)\n"
   ]
  },
  {
   "cell_type": "code",
   "execution_count": 4,
   "metadata": {},
   "outputs": [],
   "source": [
    "#remove advertisement space in data\n",
    "del data[65]\n",
    "del data[115]\n",
    "del data[260]\n"
   ]
  },
  {
   "cell_type": "code",
   "execution_count": 5,
   "metadata": {},
   "outputs": [
    {
     "name": "stdout",
     "output_type": "stream",
     "text": [
      "['Rank', 'Most Asked Questions On Google', 'Global\\xa0Monthly Search', '\\xa0Global CPC', 'Find Related Keywords for Free', '1', 'what is my ip', '3,350,000', '$0.12', '“what is my ip” related keywords']\n"
     ]
    }
   ],
   "source": [
    "#print data to look at it\n",
    "print(data[:10])\n"
   ]
  },
  {
   "cell_type": "code",
   "execution_count": 6,
   "metadata": {},
   "outputs": [],
   "source": [
    "#format data to enter into data frame\n",
    "dfList = []\n",
    "for entryList in range(0,len(data),5):\n",
    "    tempList = []\n",
    "    for dataPoint in range(entryList,entryList+5):\n",
    "        tempList.append(data[dataPoint])\n",
    "    dfList.append(tempList)\n"
   ]
  },
  {
   "cell_type": "code",
   "execution_count": 7,
   "metadata": {},
   "outputs": [
    {
     "name": "stdout",
     "output_type": "stream",
     "text": [
      "[['Rank', 'Most Asked Questions On Google', 'Global\\xa0Monthly Search', '\\xa0Global CPC', 'Find Related Keywords for Free'], ['1', 'what is my ip', '3,350,000', '$0.12', '“what is my ip” related keywords']]\n"
     ]
    }
   ],
   "source": [
    "#print dfList entry to verify format\n",
    "print(dfList[:2])"
   ]
  },
  {
   "cell_type": "code",
   "execution_count": 8,
   "metadata": {},
   "outputs": [],
   "source": [
    "#enter contents of dfList into data frame\n",
    "df = pd.DataFrame(dfList[1:], columns = ['Rank','Questions','Global Search','Global CPC','Related Keywords'])"
   ]
  },
  {
   "cell_type": "code",
   "execution_count": 9,
   "metadata": {},
   "outputs": [
    {
     "name": "stdout",
     "output_type": "stream",
     "text": [
      "  Rank        Questions Global Search Global CPC  \\\n",
      "0    1    what is my ip     3,350,000      $0.12   \n",
      "1    2  what time is it     1,830,000      $0.99   \n",
      "\n",
      "                     Related Keywords  \n",
      "0    “what is my ip” related keywords  \n",
      "1  “what time is it” related keywords  \n"
     ]
    }
   ],
   "source": [
    "#verify data frame is as expected\n",
    "print(df.head(2))"
   ]
  },
  {
   "cell_type": "code",
   "execution_count": 10,
   "metadata": {
    "scrolled": true
   },
   "outputs": [],
   "source": [
    "##################\n",
    "#cleaning\n",
    "##################\n",
    "\n",
    "#this field was for a url that was not scraped, so dropping\n",
    "df = df.drop(['Related Keywords'], axis = 1)\n",
    "\n"
   ]
  },
  {
   "cell_type": "code",
   "execution_count": 11,
   "metadata": {},
   "outputs": [],
   "source": [
    "#remove '$' from Global CPC(Cost Per Click) field\n",
    "costPerClick = df['Global CPC'].apply(lambda x: x.replace('$',''))\n",
    "\n",
    "\n",
    "#remove ',' from Global Search field\n",
    "globalSearch = df['Global Search'].apply(lambda x: x.replace(',',''))\n"
   ]
  },
  {
   "cell_type": "code",
   "execution_count": 12,
   "metadata": {},
   "outputs": [
    {
     "name": "stdout",
     "output_type": "stream",
     "text": [
      "  Rank                Questions Global Search Global CPC\n",
      "0    1            what is my ip       3350000       0.12\n",
      "1    2          what time is it       1830000       0.99\n",
      "2    3  how to register to vote       1220000       2.13\n",
      "3    4         how to tie a tie        673000       1.62\n",
      "4    5           can you run it        550000       2.53\n"
     ]
    }
   ],
   "source": [
    "#replace changed fields in data frame\n",
    "df['Global CPC'] = costPerClick\n",
    "df['Global Search'] = globalSearch\n",
    "print(df.head(5))"
   ]
  },
  {
   "cell_type": "code",
   "execution_count": 18,
   "metadata": {},
   "outputs": [],
   "source": [
    "#############################################################\n",
    "#                    now for some EDA\n",
    "#############################################################\n"
   ]
  },
  {
   "cell_type": "code",
   "execution_count": 27,
   "metadata": {},
   "outputs": [],
   "source": [
    "#correlation between CPC and rank?\n"
   ]
  },
  {
   "cell_type": "code",
   "execution_count": null,
   "metadata": {},
   "outputs": [],
   "source": [
    "#correlation between rank and substring rank?"
   ]
  },
  {
   "cell_type": "code",
   "execution_count": null,
   "metadata": {},
   "outputs": [],
   "source": [
    "#what is the avg \"ad revenue\" (GlobalSearch*CPC)"
   ]
  },
  {
   "cell_type": "code",
   "execution_count": null,
   "metadata": {},
   "outputs": [],
   "source": [
    "#correlation between rank and \"ad revenue\"?"
   ]
  },
  {
   "cell_type": "code",
   "execution_count": null,
   "metadata": {},
   "outputs": [],
   "source": [
    "#correlation between question length and rank?"
   ]
  },
  {
   "cell_type": "code",
   "execution_count": null,
   "metadata": {},
   "outputs": [],
   "source": [
    "#trending subjects in the questions?"
   ]
  },
  {
   "cell_type": "code",
   "execution_count": null,
   "metadata": {},
   "outputs": [],
   "source": [
    "#correlation between subjects and CPC?"
   ]
  }
 ],
 "metadata": {
  "kernelspec": {
   "display_name": "Python 3",
   "language": "python",
   "name": "python3"
  },
  "language_info": {
   "codemirror_mode": {
    "name": "ipython",
    "version": 3
   },
   "file_extension": ".py",
   "mimetype": "text/x-python",
   "name": "python",
   "nbconvert_exporter": "python",
   "pygments_lexer": "ipython3",
   "version": "3.8.5"
  }
 },
 "nbformat": 4,
 "nbformat_minor": 4
}
