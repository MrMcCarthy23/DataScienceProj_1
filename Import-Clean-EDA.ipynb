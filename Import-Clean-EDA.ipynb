{
 "cells": [
  {
   "cell_type": "code",
   "execution_count": 46,
   "metadata": {},
   "outputs": [],
   "source": [
    "from bs4 import BeautifulSoup as bs\n",
    "import requests\n",
    "import pandas as pd\n",
    "import numpy as np\n",
    "import sklearn as sk\n",
    "import csv\n",
    "import matplotlib.pyplot as plt\n",
    "from nltk.tokenize import sent_tokenize, word_tokenize\n",
    "from nltk.corpus import stopwords"
   ]
  },
  {
   "cell_type": "code",
   "execution_count": 47,
   "metadata": {},
   "outputs": [],
   "source": [
    "#scrape the url for the data with BeautifulSoup package\n",
    "result = requests.get('https://www.mondovo.com/keywords/most-asked-questions-on-google/')\n",
    "webSource = result.content\n",
    "soup = bs(webSource,'lxml')\n",
    "entries = soup.find_all('td')\n",
    "#store all of the relevent data into an array\n",
    "#there are 1000 relevent data points however \n",
    "#there are some gaps in the data. the 5008 \n",
    "#is from counting the relevent rows of data \n",
    "#in the entries array.\n",
    "data = []\n",
    "for elt in range(5008):\n",
    "    data.append(entries[elt].text)\n"
   ]
  },
  {
   "cell_type": "code",
   "execution_count": 48,
   "metadata": {},
   "outputs": [],
   "source": [
    "#remove advertisement space in data\n",
    "del data[65]\n",
    "del data[115]\n",
    "del data[260]\n"
   ]
  },
  {
   "cell_type": "code",
   "execution_count": 49,
   "metadata": {},
   "outputs": [
    {
     "name": "stdout",
     "output_type": "stream",
     "text": [
      "['Rank', 'Most Asked Questions On Google', 'Global\\xa0Monthly Search', '\\xa0Global CPC', 'Find Related Keywords for Free', '1', 'what is my ip', '3,350,000', '$0.12', '“what is my ip” related keywords']\n"
     ]
    }
   ],
   "source": [
    "#print data to look at it\n",
    "print(data[:10])\n"
   ]
  },
  {
   "cell_type": "code",
   "execution_count": 50,
   "metadata": {},
   "outputs": [],
   "source": [
    "#format data to enter into data frame\n",
    "dfList = []\n",
    "for entryList in range(0,len(data),5):\n",
    "    tempList = []\n",
    "    for dataPoint in range(entryList,entryList+5):\n",
    "        tempList.append(data[dataPoint])\n",
    "    dfList.append(tempList)\n"
   ]
  },
  {
   "cell_type": "code",
   "execution_count": 51,
   "metadata": {},
   "outputs": [
    {
     "name": "stdout",
     "output_type": "stream",
     "text": [
      "[['Rank', 'Most Asked Questions On Google', 'Global\\xa0Monthly Search', '\\xa0Global CPC', 'Find Related Keywords for Free'], ['1', 'what is my ip', '3,350,000', '$0.12', '“what is my ip” related keywords']]\n"
     ]
    }
   ],
   "source": [
    "#print dfList entry to verify format\n",
    "print(dfList[:2])"
   ]
  },
  {
   "cell_type": "code",
   "execution_count": 52,
   "metadata": {},
   "outputs": [],
   "source": [
    "#enter contents of dfList into data frame\n",
    "df = pd.DataFrame(dfList[1:], columns = ['Rank','Questions','Global Search','Global CPC','Related Keywords'])"
   ]
  },
  {
   "cell_type": "code",
   "execution_count": 53,
   "metadata": {},
   "outputs": [
    {
     "name": "stdout",
     "output_type": "stream",
     "text": [
      "  Rank        Questions Global Search Global CPC  \\\n",
      "0    1    what is my ip     3,350,000      $0.12   \n",
      "1    2  what time is it     1,830,000      $0.99   \n",
      "\n",
      "                     Related Keywords  \n",
      "0    “what is my ip” related keywords  \n",
      "1  “what time is it” related keywords  \n"
     ]
    }
   ],
   "source": [
    "#verify data frame is as expected\n",
    "print(df.head(2))"
   ]
  },
  {
   "cell_type": "code",
   "execution_count": 54,
   "metadata": {
    "scrolled": true
   },
   "outputs": [],
   "source": [
    "##################\n",
    "#cleaning\n",
    "##################\n",
    "\n",
    "#this field was for a url that was not scraped, so dropping\n",
    "df = df.drop(['Related Keywords'], axis = 1)\n",
    "\n"
   ]
  },
  {
   "cell_type": "code",
   "execution_count": 55,
   "metadata": {
    "scrolled": true
   },
   "outputs": [],
   "source": [
    "#remove '$' from Global CPC(Cost Per Click) field and convert to float\n",
    "costPerClick = df['Global CPC'].apply(lambda x: float(x.replace('$','')))\n",
    "\n",
    "\n",
    "#remove ',' from Global Search field and convert to int\n",
    "globalSearch = df['Global Search'].apply(lambda x: int(x.replace(',','')))\n"
   ]
  },
  {
   "cell_type": "code",
   "execution_count": 56,
   "metadata": {},
   "outputs": [],
   "source": [
    "#convert 'Rank' to int\n",
    "Rank = df['Rank'].apply(lambda x: int(x))"
   ]
  },
  {
   "cell_type": "code",
   "execution_count": 57,
   "metadata": {},
   "outputs": [
    {
     "name": "stdout",
     "output_type": "stream",
     "text": [
      "   Rank                Questions  Global Search  Global CPC\n",
      "0     1            what is my ip        3350000        0.12\n",
      "1     2          what time is it        1830000        0.99\n",
      "2     3  how to register to vote        1220000        2.13\n",
      "3     4         how to tie a tie         673000        1.62\n",
      "4     5           can you run it         550000        2.53\n"
     ]
    }
   ],
   "source": [
    "#replace changed fields in data frame\n",
    "df['Global CPC'] = costPerClick\n",
    "df['Global Search'] = globalSearch\n",
    "df['Rank'] = Rank\n",
    "print(df.head(5))"
   ]
  },
  {
   "cell_type": "code",
   "execution_count": 58,
   "metadata": {},
   "outputs": [],
   "source": [
    "#############################################################\n",
    "#                  making the substring weights\n",
    "#############################################################\n",
    "\n",
    "#take out the stop words\n",
    "\n",
    "\n",
    "#make a count dict of substrings\n",
    "\n",
    "\n",
    "#determine the weight for each substring and store in a dict\n",
    "#    minmax(ad_rev)\n",
    "#    if substring appears more than once add minmax(current)/minmax(init) to minmax(init)\n",
    "\n",
    "\n",
    "#weights \"||ad_rev||\" or \"normalized ad_rev\" = weights*counts for each substring\n",
    "\n",
    "\n",
    "#make a new data frame with substrings and weights\n",
    "\n",
    "\n",
    "#add a rank col to the data frame\n"
   ]
  },
  {
   "cell_type": "code",
   "execution_count": 59,
   "metadata": {},
   "outputs": [],
   "source": [
    "#############################################################\n",
    "#                    now for some EDA\n",
    "#############################################################"
   ]
  },
  {
   "cell_type": "code",
   "execution_count": 60,
   "metadata": {},
   "outputs": [
    {
     "data": {
      "text/plain": [
       "<function matplotlib.pyplot.show(*args, **kw)>"
      ]
     },
     "execution_count": 60,
     "metadata": {},
     "output_type": "execute_result"
    },
    {
     "data": {
      "image/png": "[encoded data removed]",
      "text/plain": [
       "<Figure size 432x288 with 1 Axes>"
      ]
     },
     "metadata": {
      "needs_background": "light"
     },
     "output_type": "display_data"
    }
   ],
   "source": [
    "#correlation between CPC and rank?\n",
    "#by plotting the CPC we have the rank built into the graph already \n",
    "#from the graph there is an interesting spiking pattern but there does not \n",
    "#seem to be a positive or negative relation for the CPC based on rank. \n",
    "# The spikes in the values followed by the exponential decay of the following\n",
    "#values until the next spike are curious. I wonder if this has to do with the \n",
    "#methodology of the data source's ranking system\n",
    "plt.plot(df['Global CPC'])\n",
    "plt.show"
   ]
  },
  {
   "cell_type": "code",
   "execution_count": 61,
   "metadata": {},
   "outputs": [
    {
     "name": "stdout",
     "output_type": "stream",
     "text": [
      "90501.408\n"
     ]
    }
   ],
   "source": [
    "#what is the avg \"ad revenue\" (GlobalSearch*CPC)\n",
    "x = df['Global Search'].values\n",
    "y = df['Global CPC'].values\n",
    "df['ad_rev'] = x*y\n",
    "print(df['ad_rev'].mean())"
   ]
  },
  {
   "cell_type": "code",
   "execution_count": 63,
   "metadata": {},
   "outputs": [
    {
     "data": {
      "text/plain": [
       "<function matplotlib.pyplot.show(*args, **kw)>"
      ]
     },
     "execution_count": 63,
     "metadata": {},
     "output_type": "execute_result"
    },
    {
     "data": {
      "image/png": "[encoded data removed]",
      "text/plain": [
       "<Figure size 432x288 with 1 Axes>"
      ]
     },
     "metadata": {
      "needs_background": "light"
     },
     "output_type": "display_data"
    }
   ],
   "source": [
    "#correlation between rank and \"ad revenue\"?\n",
    "#From the graph there is an obvious positive correlation between ad revenue and rank.\n",
    "#even with the CPC spikes seen before, the shear numbers of the higer ranked questions \n",
    "#have produced more ad revenue.\n",
    "plt.plot(df['ad_rev'])\n",
    "plt.show"
   ]
  },
  {
   "cell_type": "code",
   "execution_count": 68,
   "metadata": {},
   "outputs": [
    {
     "data": {
      "image/png": "[encoded data removed]",
      "text/plain": [
       "<Figure size 432x288 with 1 Axes>"
      ]
     },
     "metadata": {
      "needs_background": "light"
     },
     "output_type": "display_data"
    }
   ],
   "source": [
    "#correlation between question length and rank?\n",
    "#from the graph of the fitting line, there seems to be no correlation between the \n",
    "#length of the question and the rank.\n",
    "\n",
    "question_len = df['Questions'].apply(lambda x: len(x))\n",
    "\n",
    "m,b = np.polyfit(df['Rank'],question_len,1)\n",
    "plt.scatter(df['Rank'],question_len, s = 3)\n",
    "plt.plot(df['Rank'], m*df['Rank']+b,'y',linewidth = 5)\n",
    "plt.grid()\n",
    "plt.show()"
   ]
  },
  {
   "cell_type": "code",
   "execution_count": null,
   "metadata": {},
   "outputs": [],
   "source": [
    "#graph my rank vs normalized ad rev\n"
   ]
  },
  {
   "cell_type": "code",
   "execution_count": null,
   "metadata": {},
   "outputs": [],
   "source": []
  }
 ],
 "metadata": {
  "kernelspec": {
   "display_name": "Python 3",
   "language": "python",
   "name": "python3"
  },
  "language_info": {
   "codemirror_mode": {
    "name": "ipython",
    "version": 3
   },
   "file_extension": ".py",
   "mimetype": "text/x-python",
   "name": "python",
   "nbconvert_exporter": "python",
   "pygments_lexer": "ipython3",
   "version": "3.8.3"
  }
 },
 "nbformat": 4,
 "nbformat_minor": 4
}
