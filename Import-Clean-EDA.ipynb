{
 "cells": [
  {
   "cell_type": "code",
   "execution_count": 65,
   "metadata": {},
   "outputs": [],
   "source": [
    "from bs4 import BeautifulSoup as bs\n",
    "import requests\n",
    "import pandas as pd\n",
    "import numpy as np\n",
    "import sklearn as sk\n",
    "import csv\n",
    "import matplotlib.pyplot as plt"
   ]
  },
  {
   "cell_type": "code",
   "execution_count": 66,
   "metadata": {},
   "outputs": [],
   "source": [
    "#scrape the url for the data with BeautifulSoup package\n",
    "result = requests.get('https://www.mondovo.com/keywords/most-asked-questions-on-google/')\n",
    "webSource = result.content\n",
    "soup = bs(webSource,'lxml')\n",
    "entries = soup.find_all('td')\n",
    "#store all of the relevent data into an array\n",
    "#there are 1000 relevent data points however \n",
    "#there are some gaps in the data. the 5008 \n",
    "#is from counting the relevent rows of data \n",
    "#in the entries array.\n",
    "data = []\n",
    "for elt in range(5008):\n",
    "    data.append(entries[elt].text)\n"
   ]
  },
  {
   "cell_type": "code",
   "execution_count": 67,
   "metadata": {},
   "outputs": [],
   "source": [
    "#remove advertisement space in data\n",
    "del data[65]\n",
    "del data[115]\n",
    "del data[260]\n"
   ]
  },
  {
   "cell_type": "code",
   "execution_count": 68,
   "metadata": {},
   "outputs": [
    {
     "name": "stdout",
     "output_type": "stream",
     "text": [
      "['Rank', 'Most Asked Questions On Google', 'Global\\xa0Monthly Search', '\\xa0Global CPC', 'Find Related Keywords for Free', '1', 'what is my ip', '3,350,000', '$0.12', '“what is my ip” related keywords']\n"
     ]
    }
   ],
   "source": [
    "#print data to look at it\n",
    "print(data[:10])\n"
   ]
  },
  {
   "cell_type": "code",
   "execution_count": 69,
   "metadata": {},
   "outputs": [],
   "source": [
    "#format data to enter into data frame\n",
    "dfList = []\n",
    "for entryList in range(0,len(data),5):\n",
    "    tempList = []\n",
    "    for dataPoint in range(entryList,entryList+5):\n",
    "        tempList.append(data[dataPoint])\n",
    "    dfList.append(tempList)\n"
   ]
  },
  {
   "cell_type": "code",
   "execution_count": 70,
   "metadata": {},
   "outputs": [
    {
     "name": "stdout",
     "output_type": "stream",
     "text": [
      "[['Rank', 'Most Asked Questions On Google', 'Global\\xa0Monthly Search', '\\xa0Global CPC', 'Find Related Keywords for Free'], ['1', 'what is my ip', '3,350,000', '$0.12', '“what is my ip” related keywords']]\n"
     ]
    }
   ],
   "source": [
    "#print dfList entry to verify format\n",
    "print(dfList[:2])"
   ]
  },
  {
   "cell_type": "code",
   "execution_count": 71,
   "metadata": {},
   "outputs": [],
   "source": [
    "#enter contents of dfList into data frame\n",
    "df = pd.DataFrame(dfList[1:], columns = ['Rank','Questions','Global Search','Global CPC','Related Keywords'])"
   ]
  },
  {
   "cell_type": "code",
   "execution_count": 72,
   "metadata": {},
   "outputs": [
    {
     "name": "stdout",
     "output_type": "stream",
     "text": [
      "  Rank        Questions Global Search Global CPC  \\\n",
      "0    1    what is my ip     3,350,000      $0.12   \n",
      "1    2  what time is it     1,830,000      $0.99   \n",
      "\n",
      "                     Related Keywords  \n",
      "0    “what is my ip” related keywords  \n",
      "1  “what time is it” related keywords  \n"
     ]
    }
   ],
   "source": [
    "#verify data frame is as expected\n",
    "print(df.head(2))"
   ]
  },
  {
   "cell_type": "code",
   "execution_count": 73,
   "metadata": {
    "scrolled": true
   },
   "outputs": [],
   "source": [
    "##################\n",
    "#cleaning\n",
    "##################\n",
    "\n",
    "#this field was for a url that was not scraped, so dropping\n",
    "df = df.drop(['Related Keywords'], axis = 1)\n",
    "\n"
   ]
  },
  {
   "cell_type": "code",
   "execution_count": 74,
   "metadata": {
    "scrolled": true
   },
   "outputs": [],
   "source": [
    "#remove '$' from Global CPC(Cost Per Click) field and convert to float\n",
    "costPerClick = df['Global CPC'].apply(lambda x: float(x.replace('$','')))\n",
    "\n",
    "\n",
    "#remove ',' from Global Search field and convert to int\n",
    "globalSearch = df['Global Search'].apply(lambda x: int(x.replace(',','')))\n"
   ]
  },
  {
   "cell_type": "code",
   "execution_count": 75,
   "metadata": {},
   "outputs": [],
   "source": [
    "#convert 'Rank' to int\n",
    "Rank = df['Rank'].apply(lambda x: int(x))"
   ]
  },
  {
   "cell_type": "code",
   "execution_count": 76,
   "metadata": {},
   "outputs": [
    {
     "name": "stdout",
     "output_type": "stream",
     "text": [
      "   Rank                Questions  Global Search  Global CPC\n",
      "0     1            what is my ip        3350000        0.12\n",
      "1     2          what time is it        1830000        0.99\n",
      "2     3  how to register to vote        1220000        2.13\n",
      "3     4         how to tie a tie         673000        1.62\n",
      "4     5           can you run it         550000        2.53\n"
     ]
    }
   ],
   "source": [
    "#replace changed fields in data frame\n",
    "df['Global CPC'] = costPerClick\n",
    "df['Global Search'] = globalSearch\n",
    "df['Rank'] = Rank\n",
    "print(df.head(5))"
   ]
  },
  {
   "cell_type": "code",
   "execution_count": null,
   "metadata": {},
   "outputs": [],
   "source": [
    "#############################################################\n",
    "#                  making the substring rankings\n",
    "#############################################################\n"
   ]
  },
  {
   "cell_type": "code",
   "execution_count": 77,
   "metadata": {},
   "outputs": [],
   "source": [
    "#############################################################\n",
    "#                    now for some EDA\n",
    "#############################################################"
   ]
  },
  {
   "cell_type": "code",
   "execution_count": 78,
   "metadata": {},
   "outputs": [
    {
     "data": {
      "text/plain": [
       "<function matplotlib.pyplot.show(close=None, block=None)>"
      ]
     },
     "execution_count": 78,
     "metadata": {},
     "output_type": "execute_result"
    },
    {
     "data": {
      "image/png": "[encoded data removed]",
      "text/plain": [
       "<Figure size 432x288 with 1 Axes>"
      ]
     },
     "metadata": {
      "needs_background": "light"
     },
     "output_type": "display_data"
    }
   ],
   "source": [
    "#correlation between CPC and rank?\n",
    "#by plotting the CPC we have the rank built into the graph already \n",
    "#from the graph there is an interesting spiking pattern but there does not \n",
    "#seem to be a positive or negative relation for the CPC based on rank. \n",
    "# The spikes in the values followed by the exponential decay of the following\n",
    "#values until the next spike are curious. I wonder if this has to do with the \n",
    "#methodology of the data source's ranking system\n",
    "plt.plot(df['Global CPC'])\n",
    "plt.show"
   ]
  },
  {
   "cell_type": "code",
   "execution_count": 79,
   "metadata": {},
   "outputs": [],
   "source": [
    "#correlation between rank and substring rank?\n"
   ]
  },
  {
   "cell_type": "code",
   "execution_count": 80,
   "metadata": {},
   "outputs": [
    {
     "name": "stdout",
     "output_type": "stream",
     "text": [
      "90501.408\n"
     ]
    }
   ],
   "source": [
    "#what is the avg \"ad revenue\" (GlobalSearch*CPC)\n",
    "x = df['Global Search'].values\n",
    "y = df['Global CPC'].values\n",
    "df['ad rev'] = x*y\n",
    "print(df['ad rev'].mean())"
   ]
  },
  {
   "cell_type": "code",
   "execution_count": 81,
   "metadata": {},
   "outputs": [
    {
     "data": {
      "text/plain": [
       "<function matplotlib.pyplot.show(close=None, block=None)>"
      ]
     },
     "execution_count": 81,
     "metadata": {},
     "output_type": "execute_result"
    },
    {
     "data": {
      "image/png": "[encoded data removed]",
      "text/plain": [
       "<Figure size 432x288 with 1 Axes>"
      ]
     },
     "metadata": {
      "needs_background": "light"
     },
     "output_type": "display_data"
    }
   ],
   "source": [
    "#correlation between rank and \"ad revenue\"?\n",
    "#From the graph there is an obvious positive correlation between ad revenue and rank.\n",
    "#even with the CPC spikes seen before, the shear numbers of the higer ranked questions \n",
    "#have produced more ad revenue.\n",
    "plt.plot(df['ad rev'])\n",
    "plt.show"
   ]
  },
  {
   "cell_type": "code",
   "execution_count": 92,
   "metadata": {},
   "outputs": [
    {
     "data": {
      "image/png": "[encoded data removed]",
      "text/plain": [
       "<Figure size 432x288 with 1 Axes>"
      ]
     },
     "metadata": {
      "needs_background": "light"
     },
     "output_type": "display_data"
    }
   ],
   "source": [
    "#correlation between question length and rank?\n",
    "#from the graph of the fitting line, there seems to be no correlation between the \n",
    "#length of the question and the rank.\n",
    "\n",
    "question_len = df['Questions'].apply(lambda x: len(x))\n",
    "\n",
    "m,b = np.polyfit(df['Rank'],question_len,1)\n",
    "plt.scatter(df['Rank'],question_len)\n",
    "plt.plot(df['Rank'], m*df['Rank']+b,'y',linewidth = 5)\n",
    "plt.grid()\n",
    "plt.show()"
   ]
  },
  {
   "cell_type": "code",
   "execution_count": null,
   "metadata": {},
   "outputs": [],
   "source": [
    "#trending subjects in the questions?"
   ]
  },
  {
   "cell_type": "code",
   "execution_count": null,
   "metadata": {},
   "outputs": [],
   "source": [
    "#correlation between subjects and CPC?"
   ]
  }
 ],
 "metadata": {
  "kernelspec": {
   "display_name": "Python 3",
   "language": "python",
   "name": "python3"
  },
  "language_info": {
   "codemirror_mode": {
    "name": "ipython",
    "version": 3
   },
   "file_extension": ".py",
   "mimetype": "text/x-python",
   "name": "python",
   "nbconvert_exporter": "python",
   "pygments_lexer": "ipython3",
   "version": "3.8.5"
  }
 },
 "nbformat": 4,
 "nbformat_minor": 4
}
